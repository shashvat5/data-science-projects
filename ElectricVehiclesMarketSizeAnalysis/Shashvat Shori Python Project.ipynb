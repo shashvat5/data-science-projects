{
 "cells": [
  {
   "cell_type": "code",
   "execution_count": 2,
   "id": "d675bcdd",
   "metadata": {},
   "outputs": [],
   "source": [
    "# Importing the libraries\n",
    "import pandas as pd\n",
    "import numpy as np\n",
    "import matplotlib.pyplot as plt\n",
    "import seaborn as sns "
   ]
  },
  {
   "cell_type": "code",
   "execution_count": 3,
   "id": "9311de81",
   "metadata": {},
   "outputs": [],
   "source": [
    "# Importing the dataset\n",
    "fev = pd.read_excel(\"FEV-data-Excel.xlsx\")"
   ]
  },
  {
   "cell_type": "code",
   "execution_count": 4,
   "id": "5cc517b0",
   "metadata": {},
   "outputs": [
    {
     "name": "stdout",
     "output_type": "stream",
     "text": [
      "                      Car full name  Make                        Model  \\\n",
      "0            Audi e-tron 55 quattro  Audi            e-tron 55 quattro   \n",
      "1            Audi e-tron 50 quattro  Audi            e-tron 50 quattro   \n",
      "2             Audi e-tron S quattro  Audi             e-tron S quattro   \n",
      "3  Audi e-tron Sportback 50 quattro  Audi  e-tron Sportback 50 quattro   \n",
      "4  Audi e-tron Sportback 55 quattro  Audi  e-tron Sportback 55 quattro   \n",
      "\n",
      "   Minimal price (gross) [PLN]  Engine power [KM]  Maximum torque [Nm]  \\\n",
      "0                       345700                360                  664   \n",
      "1                       308400                313                  540   \n",
      "2                       414900                503                  973   \n",
      "3                       319700                313                  540   \n",
      "4                       357000                360                  664   \n",
      "\n",
      "        Type of brakes Drive type  Battery capacity [kWh]  Range (WLTP) [km]  \\\n",
      "0  disc (front + rear)        4WD                    95.0                438   \n",
      "1  disc (front + rear)        4WD                    71.0                340   \n",
      "2  disc (front + rear)        4WD                    95.0                364   \n",
      "3  disc (front + rear)        4WD                    71.0                346   \n",
      "4  disc (front + rear)        4WD                    95.0                447   \n",
      "\n",
      "   ...  Maximum load capacity [kg]  Number of seats  Number of doors  \\\n",
      "0  ...                       640.0                5                5   \n",
      "1  ...                       670.0                5                5   \n",
      "2  ...                       565.0                5                5   \n",
      "3  ...                       640.0                5                5   \n",
      "4  ...                       670.0                5                5   \n",
      "\n",
      "   Tire size [in]  Maximum speed [kph]  Boot capacity (VDA) [l]  \\\n",
      "0              19                  200                    660.0   \n",
      "1              19                  190                    660.0   \n",
      "2              20                  210                    660.0   \n",
      "3              19                  190                    615.0   \n",
      "4              19                  200                    615.0   \n",
      "\n",
      "   Acceleration 0-100 kph [s]  Maximum DC charging power [kW]  \\\n",
      "0                         5.7                             150   \n",
      "1                         6.8                             150   \n",
      "2                         4.5                             150   \n",
      "3                         6.8                             150   \n",
      "4                         5.7                             150   \n",
      "\n",
      "   mean - Energy consumption [kWh/100 km]  Unnamed: 25  \n",
      "0                                   24.45          NaN  \n",
      "1                                   23.80          NaN  \n",
      "2                                   27.55          NaN  \n",
      "3                                   23.30          NaN  \n",
      "4                                   23.85          NaN  \n",
      "\n",
      "[5 rows x 26 columns]\n"
     ]
    }
   ],
   "source": [
    "print(fev.head())"
   ]
  },
  {
   "cell_type": "code",
   "execution_count": 29,
   "id": "e25dc5b0",
   "metadata": {},
   "outputs": [
    {
     "name": "stdout",
     "output_type": "stream",
     "text": [
      "            Make  Battery capacity [kWh]\n",
      "0           Audi               95.000000\n",
      "1            BMW               80.000000\n",
      "2        Hyundai               64.000000\n",
      "3            Kia               64.000000\n",
      "4  Mercedes-Benz               80.000000\n",
      "5          Tesla               68.000000\n",
      "6     Volkswagen               70.666667\n"
     ]
    }
   ],
   "source": [
    "# Task 1: A customer has a budget of 350,000 PLN and wants an EV with a minimum range of 400 km.\n",
    "# a) Your task is to filter out EVs that meet these criteria.(2 Marks)\n",
    "# b) Group them by the manufacturer (Make).(6 marks)\n",
    "# c) Calculate the average battery capacity for each manufacturer. (8 Marks)\n",
    "\n",
    "filtered_ev = fev[(fev[\"Minimal price (gross) [PLN]\"] <= 350000) & (fev[\"Range (WLTP) [km]\"] >= 400)]\n",
    "grouped_ev = filtered_ev.groupby(\"Make\")\n",
    "avg_battery_capacity = grouped_ev[\"Battery capacity [kWh]\"].mean()\n",
    "avg_battery_capacity = avg_battery_capacity.reset_index()\n",
    "print(avg_battery_capacity)\n",
    "\n",
    "# Results below show that Audi, BMW, and Hyundai have the highest average battery capacities, given the \n",
    "# budget and range constraint, while Tesla and Volkswagen have relatively lower capacities.\n",
    "# The customer should therefore buy either Audi, BMW, or Hyundai.\n"
   ]
  },
  {
   "cell_type": "code",
   "execution_count": 5,
   "id": "a56e3c6e",
   "metadata": {},
   "outputs": [],
   "source": [
    "fev.rename(columns={\"mean - Energy consumption [kWh/100 km]\": \"EnergyConsumption\"}, inplace=True)\n"
   ]
  },
  {
   "cell_type": "code",
   "execution_count": 6,
   "id": "c11414c9",
   "metadata": {
    "scrolled": false
   },
   "outputs": [
    {
     "name": "stdout",
     "output_type": "stream",
     "text": [
      "IQR: 7.9\n",
      "Lower Bound: 3.7499999999999982\n",
      "Upper Bound: 35.35\n",
      "The outliers are :                         Car full name     Make                        Model  \\\n",
      "9                        Citroën ë-C4  Citroën                         ë-C4   \n",
      "29                     Peugeot e-2008  Peugeot                       e-2008   \n",
      "39  Tesla Model 3 Standard Range Plus    Tesla  Model 3 Standard Range Plus   \n",
      "40           Tesla Model 3 Long Range    Tesla           Model 3 Long Range   \n",
      "41          Tesla Model 3 Performance    Tesla          Model 3 Performance   \n",
      "42      Tesla Model S Long Range Plus    Tesla      Model S Long Range Plus   \n",
      "43          Tesla Model S Performance    Tesla          Model S Performance   \n",
      "44      Tesla Model X Long Range Plus    Tesla      Model X Long Range Plus   \n",
      "45          Tesla Model X Performance    Tesla          Model X Performance   \n",
      "\n",
      "    EnergyConsumption  \n",
      "9                 0.0  \n",
      "29                0.0  \n",
      "39                0.0  \n",
      "40                0.0  \n",
      "41                0.0  \n",
      "42                0.0  \n",
      "43                0.0  \n",
      "44                0.0  \n",
      "45                0.0  \n"
     ]
    }
   ],
   "source": [
    "# Task 2: You suspect some EVs have unusually high or low energy consumption. \n",
    "#     Find the outliers in the mean - Energy consumption [kWh/100 km] column.(16 Marks)\n",
    "\n",
    "# To detect outliers, we can use IQR (or Interquartile Range) method. To do so, we must calculate\n",
    "# Q1 & Q3. 50% of the observations will lie between Q1 and Q3. Anthing outside this range can be\n",
    "# considered an outlier\n",
    "\n",
    "fev[\"EnergyConsumption\"].fillna(0, inplace=True)\n",
    "fev_cleaned = fev[\"EnergyConsumption\"]\n",
    "fev_cleaned = fev_cleaned[fev_cleaned > 0]\n",
    "\n",
    "\n",
    "if len(fev_cleaned) > 0:\n",
    "    q1 = np.percentile(fev_cleaned, 25)\n",
    "    q3 = np.percentile(fev_cleaned, 75)\n",
    "else:\n",
    "    q1, q3 = 0, 0 \n",
    "\n",
    "iqr = q3 - q1\n",
    "print(\"IQR:\", iqr)\n",
    "\n",
    "\n",
    "lower_bound = q1 - 1.5 * iqr\n",
    "upper_bound = q3 + 1.5 * iqr\n",
    "print(\"Lower Bound:\", lower_bound)\n",
    "print(\"Upper Bound:\", upper_bound)\n",
    "\n",
    "\n",
    "outliers = fev[(fev[\"EnergyConsumption\"] < lower_bound) | (fev[\"EnergyConsumption\"] > upper_bound)]\n",
    "print(\"The outliers are :\", outliers[[\"Car full name\", \"Make\", \"Model\", \"EnergyConsumption\"]])\n",
    "\n",
    "#There are 9 outliers in the given dataframe"
   ]
  },
  {
   "cell_type": "code",
   "execution_count": 7,
   "id": "1ae788e9",
   "metadata": {},
   "outputs": [
    {
     "data": {
      "image/png": "[encoded data removed]",
      "text/plain": [
       "<Figure size 432x288 with 1 Axes>"
      ]
     },
     "metadata": {
      "needs_background": "light"
     },
     "output_type": "display_data"
    }
   ],
   "source": [
    "# Task 3: Your manager wants to know if there's a strong relationship between battery capacity and range.\n",
    "# a) Create a suitable plot to visualize.(8 Marks)\n",
    "# b) Highlight any insights.(8 Marks)\n",
    "\n",
    "x = fev[\"Battery capacity [kWh]\"]\n",
    "y = fev[\"Range (WLTP) [km]\"]\n",
    "plt.scatter(x,y,color=\"red\")\n",
    "plt.title(\"Relationship between Battery Capacity and Range\")\n",
    "plt.xlabel(\"Battery Capacity\")\n",
    "plt.ylabel(\"Range\")\n",
    "plt.show()\n",
    "\n",
    "# The scatter plot shows that there's a positive correlation between the battery Capacity and range\n",
    "# As battery capacity increases, the range also tends to increase, \n",
    "# showing that EVs with larger batteries generally travel farther."
   ]
  },
  {
   "cell_type": "code",
   "execution_count": 10,
   "id": "0d8bda4b",
   "metadata": {},
   "outputs": [
    {
     "name": "stdout",
     "output_type": "stream",
     "text": [
      "EV Recommendation Class\n",
      "Enter your budget: 350000\n",
      "Enter the desired range: 350\n",
      "Enter the battery capacity: 10\n",
      "Top 3 Recommended EVs:\n",
      "                Car full name        Make                Model  \\\n",
      "40   Tesla Model 3 Long Range       Tesla   Model 3 Long Range   \n",
      "41  Tesla Model 3 Performance       Tesla  Model 3 Performance   \n",
      "48      Volkswagen ID.3 Pro S  Volkswagen           ID.3 Pro S   \n",
      "\n",
      "    Minimal price (gross) [PLN]  Range (WLTP) [km]  Battery capacity [kWh]  \n",
      "40                       235490                580                    75.0  \n",
      "41                       260490                567                    75.0  \n",
      "48                       179990                549                    77.0  \n"
     ]
    }
   ],
   "source": [
    "# Task 4: Build an EV recommendation class. The class should allow users to input their \n",
    "# budget, desired range, and battery capacity. The class should then return the top three EVs \n",
    "# matching their criteria. (8+8 Marks)\n",
    "\n",
    "class EVRecommendation:\n",
    "    def __init__(self, dataframe):\n",
    "        self.fev = dataframe \n",
    "\n",
    "    def get_input(self):\n",
    "        print(\"EV Recommendation Class\")\n",
    "        self.budget = int(input(\"Enter your budget: \"))\n",
    "        self.min_range = int(input(\"Enter the desired range: \"))\n",
    "        self.battery = int(input(\"Enter the battery capacity: \"))\n",
    "\n",
    "    def recommend_evs(self):\n",
    "        filtered_evs = self.fev[\n",
    "            (self.fev[\"Minimal price (gross) [PLN]\"] <= self.budget) &\n",
    "            (self.fev[\"Range (WLTP) [km]\"] >= self.min_range) &\n",
    "            (self.fev[\"Battery capacity [kWh]\"] >= self.battery)\n",
    "        ]\n",
    "\n",
    "        recommended_evs = filtered_evs.sort_values(by=\"Range (WLTP) [km]\", ascending=False).head(3)\n",
    "\n",
    "        if not recommended_evs.empty:\n",
    "            print(\"Top 3 Recommended EVs:\")\n",
    "            print(recommended_evs[[\"Car full name\", \"Make\", \"Model\", \"Minimal price (gross) [PLN]\", \"Range (WLTP) [km]\", \"Battery capacity [kWh]\"]])\n",
    "        else:\n",
    "            print(\"No EVs match your criteria. Try with different inputs\")\n",
    "\n",
    "ev_system = EVRecommendation(fev)\n",
    "ev_system.get_input()\n",
    "ev_system.recommend_evs() \n",
    "\n",
    "#This class function returns the top 3 recommended EVs to the user as per the entered input by the user"
   ]
  },
  {
   "cell_type": "code",
   "execution_count": 9,
   "id": "8a88ef4b",
   "metadata": {},
   "outputs": [
    {
     "data": {
      "image/png": "[encoded data removed]",
      "text/plain": [
       "<Figure size 576x360 with 1 Axes>"
      ]
     },
     "metadata": {
      "needs_background": "light"
     },
     "output_type": "display_data"
    },
    {
     "name": "stdout",
     "output_type": "stream",
     "text": [
      "T-Statistic: 1.7939951827297183\n",
      "P-Value: 0.10684105068839563\n"
     ]
    }
   ],
   "source": [
    "\n",
    "# Task 5: Inferential Statistics – Hypothesis Testing: Test whether there is a significant difference in \n",
    "#         the average Engine power [KM] of vehicles manufactured by two leading manufacturers \n",
    "#         i.e. Tesla and Audi. What insights can you draw from the test results? Recommendations \n",
    "#         and Conclusion: Provide actionable insights based on your analysis. \n",
    "#         (Conduct a two sample t-test using ttest_ind from scipy.stats module) (16 Marks)\n",
    "\n",
    "\n",
    "from scipy.stats import ttest_ind\n",
    "tesla_power = fev[fev[\"Make\"] == \"Tesla\"][\"Engine power [KM]\"].dropna()\n",
    "audi_power = fev[fev[\"Make\"] == \"Audi\"][\"Engine power [KM]\"].dropna()\n",
    "\n",
    "plt.figure(figsize=(8,5))\n",
    "plt.hist(tesla_power, bins=10, alpha=0.7, label=\"Tesla\", color=\"blue\")\n",
    "plt.hist(audi_power, bins=10, alpha=0.7, label=\"Audi\", color=\"red\")\n",
    "plt.xlabel(\"Engine Power (KM)\")\n",
    "plt.ylabel(\"Frequency\")\n",
    "plt.legend()\n",
    "plt.title(\"Distribution of Engine Power: Tesla vs Audi\")\n",
    "plt.show()\n",
    "\n",
    "t_stat, p_value = ttest_ind(tesla_power, audi_power, equal_var=False)\n",
    "\n",
    "print(\"T-Statistic:\", t_stat)\n",
    "print(\"P-Value:\", p_value)\n",
    "\n"
   ]
  },
  {
   "cell_type": "code",
   "execution_count": null,
   "id": "4e7a0f80",
   "metadata": {},
   "outputs": [],
   "source": [
    "# After conducting the two-sample t-test to compare the average engine power of Tesla and Audi vehicles, \n",
    "# we can see that the t-statistic is 1.79 and the p-value is 0.1068. Given that the p-value is greater than 0.05, \n",
    "# we can fail to reject the null hypothesis. It means that there is no statistically significant difference in the \n",
    "# avg engine power between Tesla and Audi. Even though Tesla seems to have a higher engine power on avg, \n",
    "# the difference is not strong enough to be considered statistically significant. "
   ]
  }
 ],
 "metadata": {
  "kernelspec": {
   "display_name": "Python 3",
   "language": "python",
   "name": "python3"
  },
  "language_info": {
   "codemirror_mode": {
    "name": "ipython",
    "version": 3
   },
   "file_extension": ".py",
   "mimetype": "text/x-python",
   "name": "python",
   "nbconvert_exporter": "python",
   "pygments_lexer": "ipython3",
   "version": "3.8.8"
  }
 },
 "nbformat": 4,
 "nbformat_minor": 5
}
